{
 "cells": [
  {
   "cell_type": "markdown",
   "id": "c5797a4f-c714-4c30-b653-62d09f593c06",
   "metadata": {},
   "source": [
    "Multiline string "
   ]
  },
  {
   "cell_type": "code",
   "execution_count": 1,
   "id": "a8c2ffc9-c0e2-4b08-8533-5f5aa4535aa5",
   "metadata": {},
   "outputs": [],
   "source": [
    "k = '''I am \n",
    "pramikha\n",
    "from chennai '''"
   ]
  },
  {
   "cell_type": "raw",
   "id": "b4811190-5e80-4b69-a704-56bf39b9cce9",
   "metadata": {},
   "source": []
  },
  {
   "cell_type": "markdown",
   "id": "5fa88bb9-0537-45ed-bccc-489900ecd2ba",
   "metadata": {},
   "source": [
    "STRING LENGTH"
   ]
  },
  {
   "cell_type": "code",
   "execution_count": 2,
   "id": "33364a29-9007-49de-8166-22ad6f571fac",
   "metadata": {},
   "outputs": [
    {
     "name": "stdout",
     "output_type": "stream",
     "text": [
      "12\n"
     ]
    }
   ],
   "source": [
    "k = \"hi how are u\"\n",
    "print(len(k))"
   ]
  },
  {
   "cell_type": "code",
   "execution_count": null,
   "id": "9c182739-a723-485a-bb9c-f74b89d75f47",
   "metadata": {},
   "outputs": [],
   "source": []
  },
  {
   "cell_type": "markdown",
   "id": "61cc7ac6-e224-4eff-aeb3-33668d294347",
   "metadata": {},
   "source": [
    "STRING INDEXING"
   ]
  },
  {
   "cell_type": "code",
   "execution_count": 6,
   "id": "a26d75dc-d299-4b78-87d1-b447049f0b4a",
   "metadata": {},
   "outputs": [
    {
     "name": "stdout",
     "output_type": "stream",
     "text": [
      "Hello\n"
     ]
    }
   ],
   "source": [
    "b = 'Hello, World!'\n",
    "print(b[0:5])"
   ]
  },
  {
   "cell_type": "markdown",
   "id": "1187137e-caf4-4a02-ab9f-fe809e0c0acc",
   "metadata": {},
   "source": [
    "SLICING "
   ]
  },
  {
   "cell_type": "raw",
   "id": "48861dc5-d792-4590-89a4-bf9a99eac0e5",
   "metadata": {
    "scrolled": true
   },
   "source": [
    "b = \"Hello, World!\"\n",
    "print(b[-2])"
   ]
  },
  {
   "cell_type": "code",
   "execution_count": 14,
   "id": "a2367356-2a93-445d-8880-eb87d64f4002",
   "metadata": {},
   "outputs": [
    {
     "name": "stdout",
     "output_type": "stream",
     "text": [
      "ell\n"
     ]
    }
   ],
   "source": [
    "k = 'Hello'\n",
    "print(k[1:4])"
   ]
  },
  {
   "cell_type": "code",
   "execution_count": 15,
   "id": "64df1f7a-cc14-464e-b66e-e8fde0abe316",
   "metadata": {},
   "outputs": [
    {
     "name": "stdout",
     "output_type": "stream",
     "text": [
      "\n"
     ]
    }
   ],
   "source": [
    "k = \"Hello World\"\n",
    "print(k[-1:-6])"
   ]
  },
  {
   "cell_type": "code",
   "execution_count": null,
   "id": "e0e2fbee-24e5-41af-aa72-57ca417acf92",
   "metadata": {},
   "outputs": [],
   "source": []
  },
  {
   "cell_type": "code",
   "execution_count": null,
   "id": "4bbe532c-b15d-46e1-a4a4-42a1a1fc5a32",
   "metadata": {},
   "outputs": [],
   "source": [
    "6:11 -6-11"
   ]
  },
  {
   "cell_type": "code",
   "execution_count": 25,
   "id": "4af70871-a657-49b7-87cf-febf6002b3ee",
   "metadata": {},
   "outputs": [
    {
     "name": "stdout",
     "output_type": "stream",
     "text": [
      "lco\n",
      "e, be\n",
      "welcom\n",
      "esant!\n"
     ]
    }
   ],
   "source": [
    "b = 'welcome, besant!'\n",
    "print(b[2:5])\n",
    "print(b[6:11])\n",
    "print(b[0:6]) #first few characters \n",
    "print(b[-6:]) #last few characters"
   ]
  },
  {
   "cell_type": "code",
   "execution_count": 34,
   "id": "15496e81-400e-4cc0-9641-632c9dd6cf42",
   "metadata": {},
   "outputs": [
    {
     "name": "stdout",
     "output_type": "stream",
     "text": [
      "world!\n",
      "world\n"
     ]
    }
   ],
   "source": [
    "c = 'Hello, world!'\n",
    "print(c[-6:])\n",
    "print(c[-6:-1])\n"
   ]
  },
  {
   "cell_type": "code",
   "execution_count": 40,
   "id": "124f5d69-cf80-412c-b631-1b4b6a4d636f",
   "metadata": {},
   "outputs": [
    {
     "name": "stdout",
     "output_type": "stream",
     "text": [
      "com\n"
     ]
    }
   ],
   "source": [
    "d = 'welcome, world!'\n",
    "print(b[3:6])\n"
   ]
  },
  {
   "cell_type": "code",
   "execution_count": 42,
   "id": "22e7aa1f-53d5-48f0-869c-85763d6586c3",
   "metadata": {},
   "outputs": [
    {
     "name": "stdin",
     "output_type": "stream",
     "text": [
      "enter your name k3e\n",
      "enter your place e3x\n"
     ]
    },
    {
     "name": "stdout",
     "output_type": "stream",
     "text": [
      "i am k3e from e3x\n"
     ]
    }
   ],
   "source": [
    "a = input('enter your name')\n",
    "b = input('enter your place')\n",
    "k = f\"i am {a} from {b}\"\n",
    "print(k)"
   ]
  },
  {
   "cell_type": "code",
   "execution_count": null,
   "id": "376dc470-54cd-4b01-af64-f0bacfb40447",
   "metadata": {},
   "outputs": [],
   "source": []
  },
  {
   "cell_type": "code",
   "execution_count": null,
   "id": "2cffa317-2379-444d-9342-40c224cc820d",
   "metadata": {},
   "outputs": [],
   "source": [
    "#hw - keywords, write 5 keywords not in notes  #study string & come."
   ]
  },
  {
   "cell_type": "code",
   "execution_count": 3,
   "id": "fa5a7591-625e-4dcc-9f25-ea3f935ac7a0",
   "metadata": {},
   "outputs": [
    {
     "name": "stdin",
     "output_type": "stream",
     "text": [
      "enter a string feg\n",
      "enter a string hhh\n"
     ]
    },
    {
     "name": "stdout",
     "output_type": "stream",
     "text": [
      "i am feg and in hhh\n"
     ]
    }
   ],
   "source": [
    "a = input('enter a string')\n",
    "b = input('enter a string')\n",
    "k = f\"i am {a} and in {b}\"\n",
    "print(k)"
   ]
  },
  {
   "cell_type": "code",
   "execution_count": 6,
   "id": "fd089a11-206b-40f1-936e-f7b4c7dbecf5",
   "metadata": {},
   "outputs": [
    {
     "name": "stdin",
     "output_type": "stream",
     "text": [
      "enter 35\n",
      "enter 31\n"
     ]
    },
    {
     "name": "stdout",
     "output_type": "stream",
     "text": [
      "Husband is 35 his wife is 31\n"
     ]
    }
   ],
   "source": [
    "a = int(input(\"enter\"))\n",
    "b = int(input('enter'))\n",
    "k1 = f\"Husband is {a} his wife is {b}\"\n",
    "print(k1)"
   ]
  },
  {
   "cell_type": "code",
   "execution_count": 7,
   "id": "121d82a9-8bf1-4f7a-99e8-4d2a1b1a9570",
   "metadata": {},
   "outputs": [
    {
     "name": "stdin",
     "output_type": "stream",
     "text": [
      "enter 22\n",
      "enter 17\n"
     ]
    },
    {
     "name": "stdout",
     "output_type": "stream",
     "text": [
      "i am 22 and my sis is 17\n"
     ]
    }
   ],
   "source": [
    "a1 = input('enter')\n",
    "b1 = input('enter')\n",
    "k3 = f\"i am {a1} and my sis is {b1}\"\n",
    "print(k3)"
   ]
  },
  {
   "cell_type": "code",
   "execution_count": 8,
   "id": "f28cc91a-84ed-4913-86be-9ed82b1669f9",
   "metadata": {},
   "outputs": [],
   "source": [
    "#string methods"
   ]
  },
  {
   "cell_type": "code",
   "execution_count": 9,
   "id": "d20ff8fe-c083-4fdb-bb1d-51af143179dd",
   "metadata": {},
   "outputs": [
    {
     "name": "stdout",
     "output_type": "stream",
     "text": [
      "Hello world\n"
     ]
    }
   ],
   "source": [
    "a = 'helLo World'\n",
    "print(a.capitalize())"
   ]
  },
  {
   "cell_type": "code",
   "execution_count": 10,
   "id": "54f74da1-4622-40f0-bfb6-69b9203667bb",
   "metadata": {},
   "outputs": [
    {
     "name": "stdout",
     "output_type": "stream",
     "text": [
      "hello world\n"
     ]
    }
   ],
   "source": [
    "print(a.casefold())"
   ]
  },
  {
   "cell_type": "code",
   "execution_count": 12,
   "id": "c432474b-e096-44de-be00-04f43b756e44",
   "metadata": {},
   "outputs": [
    {
     "name": "stdout",
     "output_type": "stream",
     "text": [
      "    helLo World     \n"
     ]
    }
   ],
   "source": [
    "print(a.center(20))"
   ]
  },
  {
   "cell_type": "code",
   "execution_count": 17,
   "id": "dbb0d945-8d92-40ce-b528-9c2475964631",
   "metadata": {},
   "outputs": [
    {
     "name": "stdout",
     "output_type": "stream",
     "text": [
      "2\n"
     ]
    }
   ],
   "source": [
    "print(a.count('o'))"
   ]
  },
  {
   "cell_type": "code",
   "execution_count": 18,
   "id": "6cdab023-1e3f-4d31-8c2e-34d0bb879c31",
   "metadata": {},
   "outputs": [
    {
     "name": "stdout",
     "output_type": "stream",
     "text": [
      "b'helLo World'\n"
     ]
    }
   ],
   "source": [
    "print(a.encode())"
   ]
  },
  {
   "cell_type": "code",
   "execution_count": null,
   "id": "fd77eff0-9fe1-4861-9b64-280b32d4aee1",
   "metadata": {},
   "outputs": [],
   "source": []
  }
 ],
 "metadata": {
  "kernelspec": {
   "display_name": "Python [conda env:base] *",
   "language": "python",
   "name": "conda-base-py"
  },
  "language_info": {
   "codemirror_mode": {
    "name": "ipython",
    "version": 3
   },
   "file_extension": ".py",
   "mimetype": "text/x-python",
   "name": "python",
   "nbconvert_exporter": "python",
   "pygments_lexer": "ipython3",
   "version": "3.12.7"
  }
 },
 "nbformat": 4,
 "nbformat_minor": 5
}
