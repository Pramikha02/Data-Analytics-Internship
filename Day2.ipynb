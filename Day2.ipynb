{
 "cells": [
  {
   "cell_type": "code",
   "execution_count": 1,
   "id": "434f49cc-1092-4a41-8d07-a41aea4426c0",
   "metadata": {},
   "outputs": [
    {
     "ename": "NameError",
     "evalue": "name 'kw' is not defined",
     "output_type": "error",
     "traceback": [
      "\u001b[1;31m---------------------------------------------------------------------------\u001b[0m",
      "\u001b[1;31mNameError\u001b[0m                                 Traceback (most recent call last)",
      "Cell \u001b[1;32mIn[1], line 2\u001b[0m\n\u001b[0;32m      1\u001b[0m \u001b[38;5;28;01mimport\u001b[39;00m \u001b[38;5;21;01mkeyword\u001b[39;00m\n\u001b[1;32m----> 2\u001b[0m \u001b[38;5;28mprint\u001b[39m (kw\u001b[38;5;241m.\u001b[39mlist)\n",
      "\u001b[1;31mNameError\u001b[0m: name 'kw' is not defined"
     ]
    }
   ],
   "source": [
    "#topics covered \n",
    "'''dynamic \n",
    "static type casting\n",
    "variable naming \n",
    "data types'''"
   ]
  },
  {
   "cell_type": "code",
   "execution_count": null,
   "id": "c6300102-3571-4f28-9726-28572ffeff67",
   "metadata": {},
   "outputs": [],
   "source": [
    "#int - integer characters\n",
    "#flaat - decimal values -> 1.2, 2.7\n",
    "#complex - a+bj\n",
    "#string - A sequence of characters"
   ]
  },
  {
   "cell_type": "code",
   "execution_count": 2,
   "id": "7e1065a6-168d-4cf1-99c2-8bb6cbce205d",
   "metadata": {},
   "outputs": [
    {
     "name": "stdout",
     "output_type": "stream",
     "text": [
      "<class 'int'>\n"
     ]
    }
   ],
   "source": [
    "k = 8\n",
    "print(type(k))"
   ]
  },
  {
   "cell_type": "code",
   "execution_count": 4,
   "id": "55eaa779-c13e-4161-9ea0-8563bac11f07",
   "metadata": {},
   "outputs": [
    {
     "name": "stdout",
     "output_type": "stream",
     "text": [
      "<class 'str'>\n"
     ]
    }
   ],
   "source": [
    "k1 = '8'\n",
    "print(type(k1))"
   ]
  },
  {
   "cell_type": "code",
   "execution_count": 5,
   "id": "7c60f9c6-2707-4e46-848a-7ea1338c4aeb",
   "metadata": {},
   "outputs": [
    {
     "name": "stdout",
     "output_type": "stream",
     "text": [
      "<class 'complex'>\n"
     ]
    }
   ],
   "source": [
    "k2 = 3+4j\n",
    "print(type(k2))"
   ]
  },
  {
   "cell_type": "code",
   "execution_count": 6,
   "id": "0da9314b-755a-493a-b985-fef49414a9d4",
   "metadata": {},
   "outputs": [
    {
     "name": "stdout",
     "output_type": "stream",
     "text": [
      "<class 'float'>\n"
     ]
    }
   ],
   "source": [
    "k3 = 7.0\n",
    "print(type(k3))"
   ]
  },
  {
   "cell_type": "code",
   "execution_count": 8,
   "id": "a3a550be-df4b-4240-8d19-469e11118db8",
   "metadata": {},
   "outputs": [
    {
     "name": "stdin",
     "output_type": "stream",
     "text": [
      "enter your variable 7\n"
     ]
    },
    {
     "name": "stdout",
     "output_type": "stream",
     "text": [
      "<class 'str'>\n"
     ]
    }
   ],
   "source": [
    "my_variable = input('enter your variable') #input is always string datatype \n",
    "print(type(my_variable))"
   ]
  },
  {
   "cell_type": "markdown",
   "id": "3df54378-1e1c-4052-9478-c9c3cfa44cdb",
   "metadata": {},
   "source": [
    "CASTING - Converting one type \n"
   ]
  },
  {
   "cell_type": "code",
   "execution_count": 10,
   "id": "916297c2-1af9-4cb3-a37b-57f30a81ea35",
   "metadata": {},
   "outputs": [
    {
     "name": "stdout",
     "output_type": "stream",
     "text": [
      "7\n",
      "(7+0j)\n",
      "7.0\n"
     ]
    }
   ],
   "source": [
    "k = 7\n",
    "print(str(7))\n",
    "print(complex(7))\n",
    "print(float(7))"
   ]
  },
  {
   "cell_type": "code",
   "execution_count": 15,
   "id": "015c6cb6-9909-492a-aa1b-e5f00df53fc4",
   "metadata": {},
   "outputs": [
    {
     "ename": "ValueError",
     "evalue": "invalid literal for int() with base 10: 'Hi'",
     "output_type": "error",
     "traceback": [
      "\u001b[1;31m---------------------------------------------------------------------------\u001b[0m",
      "\u001b[1;31mValueError\u001b[0m                                Traceback (most recent call last)",
      "Cell \u001b[1;32mIn[15], line 2\u001b[0m\n\u001b[0;32m      1\u001b[0m k1 \u001b[38;5;241m=\u001b[39m \u001b[38;5;124m\"\u001b[39m\u001b[38;5;124mHi\u001b[39m\u001b[38;5;124m\"\u001b[39m\n\u001b[1;32m----> 2\u001b[0m \u001b[38;5;28mprint\u001b[39m(\u001b[38;5;28mint\u001b[39m(k1))\n\u001b[0;32m      3\u001b[0m \u001b[38;5;28mprint\u001b[39m(\u001b[38;5;28mfloat\u001b[39m(k1))\n\u001b[0;32m      4\u001b[0m \u001b[38;5;28mprint\u001b[39m(\u001b[38;5;28mcomplex\u001b[39m(k1))\n",
      "\u001b[1;31mValueError\u001b[0m: invalid literal for int() with base 10: 'Hi'"
     ]
    }
   ],
   "source": [
    "k1 = \"Hi\"\n",
    "print(int(k1))\n",
    "print(float(k1))\n",
    "print(complex(k1))"
   ]
  },
  {
   "cell_type": "code",
   "execution_count": 14,
   "id": "be49c7f6-5c5a-4638-ab03-f3bd7177d71b",
   "metadata": {},
   "outputs": [
    {
     "ename": "ValueError",
     "evalue": "invalid literal for int() with base 10: '8a'",
     "output_type": "error",
     "traceback": [
      "\u001b[1;31m---------------------------------------------------------------------------\u001b[0m",
      "\u001b[1;31mValueError\u001b[0m                                Traceback (most recent call last)",
      "Cell \u001b[1;32mIn[14], line 2\u001b[0m\n\u001b[0;32m      1\u001b[0m k2 \u001b[38;5;241m=\u001b[39m \u001b[38;5;124m\"\u001b[39m\u001b[38;5;124m8a\u001b[39m\u001b[38;5;124m\"\u001b[39m\n\u001b[1;32m----> 2\u001b[0m \u001b[38;5;28mprint\u001b[39m(\u001b[38;5;28mint\u001b[39m(k2))\n\u001b[0;32m      3\u001b[0m \u001b[38;5;28mprint\u001b[39m(\u001b[38;5;28mfloat\u001b[39m(k2))\n\u001b[0;32m      4\u001b[0m \u001b[38;5;28mprint\u001b[39m(\u001b[38;5;28mcomplex\u001b[39m(k2))\n",
      "\u001b[1;31mValueError\u001b[0m: invalid literal for int() with base 10: '8a'"
     ]
    }
   ],
   "source": [
    "k2 = \"8a\"\n",
    "print(int(k2))\n",
    "print(float(k2))\n",
    "print(complex(k2))"
   ]
  },
  {
   "cell_type": "code",
   "execution_count": 19,
   "id": "9cb16181-ae7e-473f-8cc2-6b9b8c14a837",
   "metadata": {},
   "outputs": [
    {
     "name": "stdout",
     "output_type": "stream",
     "text": [
      "(1+3j)\n"
     ]
    },
    {
     "ename": "TypeError",
     "evalue": "int() argument must be a string, a bytes-like object or a real number, not 'complex'",
     "output_type": "error",
     "traceback": [
      "\u001b[1;31m---------------------------------------------------------------------------\u001b[0m",
      "\u001b[1;31mTypeError\u001b[0m                                 Traceback (most recent call last)",
      "Cell \u001b[1;32mIn[19], line 3\u001b[0m\n\u001b[0;32m      1\u001b[0m k3 \u001b[38;5;241m=\u001b[39m \u001b[38;5;241m1\u001b[39m \u001b[38;5;241m+\u001b[39m\u001b[38;5;241m3\u001b[39mj\n\u001b[0;32m      2\u001b[0m \u001b[38;5;28mprint\u001b[39m(\u001b[38;5;28mstr\u001b[39m(k3))\n\u001b[1;32m----> 3\u001b[0m \u001b[38;5;28mprint\u001b[39m(\u001b[38;5;28mint\u001b[39m(k3))\n\u001b[0;32m      4\u001b[0m \u001b[38;5;28mprint\u001b[39m(\u001b[38;5;28mfloat\u001b[39m(k3))\n",
      "\u001b[1;31mTypeError\u001b[0m: int() argument must be a string, a bytes-like object or a real number, not 'complex'"
     ]
    }
   ],
   "source": [
    "k3 = 1 +3j\n",
    "print(str(k3))\n",
    "print(int(k3))\n",
    "print(float(k3))"
   ]
  },
  {
   "cell_type": "code",
   "execution_count": 20,
   "id": "5023e92e-eefb-493b-8e80-2cd377bb4098",
   "metadata": {},
   "outputs": [
    {
     "name": "stdout",
     "output_type": "stream",
     "text": [
      "7\n",
      "7.8\n",
      "(7.8+0j)\n"
     ]
    }
   ],
   "source": [
    "k4 = 7.8\n",
    "print(int(k4))\n",
    "print(str(k4))\n",
    "print(complex(k4))"
   ]
  },
  {
   "cell_type": "code",
   "execution_count": null,
   "id": "14c78811-2be1-4f31-83b0-8a17c88524e4",
   "metadata": {},
   "outputs": [],
   "source": []
  },
  {
   "cell_type": "code",
   "execution_count": null,
   "id": "d2fba623-0ba9-4450-add0-1cc286361911",
   "metadata": {},
   "outputs": [],
   "source": []
  },
  {
   "cell_type": "code",
   "execution_count": null,
   "id": "9ed87bc9-8498-4b3e-9c17-a6ba1cd140d8",
   "metadata": {},
   "outputs": [],
   "source": []
  },
  {
   "cell_type": "code",
   "execution_count": null,
   "id": "f08fe799-b9b9-48fa-8a0c-6cc96861da77",
   "metadata": {},
   "outputs": [],
   "source": []
  },
  {
   "cell_type": "code",
   "execution_count": null,
   "id": "baaa7022-d05a-4b73-ba9a-b761c9b745fe",
   "metadata": {},
   "outputs": [],
   "source": []
  },
  {
   "cell_type": "code",
   "execution_count": null,
   "id": "f70ecd26-ca48-4718-8543-63d84b659501",
   "metadata": {},
   "outputs": [],
   "source": []
  },
  {
   "cell_type": "code",
   "execution_count": null,
   "id": "c162c687-729b-4078-b440-b59629820f37",
   "metadata": {},
   "outputs": [],
   "source": []
  },
  {
   "cell_type": "code",
   "execution_count": null,
   "id": "982f2623-e7b3-4d82-badb-3923eb50ffed",
   "metadata": {},
   "outputs": [],
   "source": []
  },
  {
   "cell_type": "code",
   "execution_count": null,
   "id": "5989cd03-2738-4f2d-a98d-ac6e243ef1c3",
   "metadata": {},
   "outputs": [],
   "source": []
  },
  {
   "cell_type": "code",
   "execution_count": null,
   "id": "269f7577-a884-4442-9bb1-53043ae550f1",
   "metadata": {},
   "outputs": [],
   "source": []
  },
  {
   "cell_type": "code",
   "execution_count": null,
   "id": "1d8c33cf-b664-47a9-8663-5e0179d514ff",
   "metadata": {},
   "outputs": [],
   "source": []
  },
  {
   "cell_type": "code",
   "execution_count": null,
   "id": "c90e4682-6457-47fb-9d3a-4123977ba453",
   "metadata": {},
   "outputs": [],
   "source": []
  },
  {
   "cell_type": "code",
   "execution_count": null,
   "id": "3658f112-dd7f-41a5-817e-36dc9ce152a6",
   "metadata": {},
   "outputs": [],
   "source": []
  }
 ],
 "metadata": {
  "kernelspec": {
   "display_name": "Python [conda env:base] *",
   "language": "python",
   "name": "conda-base-py"
  },
  "language_info": {
   "codemirror_mode": {
    "name": "ipython",
    "version": 3
   },
   "file_extension": ".py",
   "mimetype": "text/x-python",
   "name": "python",
   "nbconvert_exporter": "python",
   "pygments_lexer": "ipython3",
   "version": "3.12.7"
  }
 },
 "nbformat": 4,
 "nbformat_minor": 5
}
