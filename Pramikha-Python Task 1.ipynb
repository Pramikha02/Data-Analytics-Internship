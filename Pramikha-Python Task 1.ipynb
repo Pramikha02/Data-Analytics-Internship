{
 "cells": [
  {
   "cell_type": "code",
   "execution_count": 3,
   "id": "09ab7de5-92be-4461-a84d-75d07b050c3d",
   "metadata": {},
   "outputs": [
    {
     "data": {
      "text/plain": [
       "[1, 22, 3, 44, 55, 4, 11, 1200]"
      ]
     },
     "execution_count": 3,
     "metadata": {},
     "output_type": "execute_result"
    }
   ],
   "source": [
    "#1. Add the number `4` at the 6th index of the list `l`.\n",
    "\n",
    "l=[1,22,3,44,55,6,11,1200]\n",
    "\n",
    "l[5] = 4\n",
    "l"
   ]
  },
  {
   "cell_type": "code",
   "execution_count": 4,
   "id": "c6c91caa-a69e-4df2-a649-3329cf76e41a",
   "metadata": {},
   "outputs": [
    {
     "data": {
      "text/plain": [
       "[1, 22, 3, 55, 6, 11, 1200]"
      ]
     },
     "execution_count": 4,
     "metadata": {},
     "output_type": "execute_result"
    }
   ],
   "source": [
    "#2. Remove the value `44` from the list `l`.\n",
    "\n",
    "l=[1,22,3,44,55,6,11,1200]\n",
    "l.remove(44)\n",
    "l\n"
   ]
  },
  {
   "cell_type": "code",
   "execution_count": 5,
   "id": "469996a3-6194-4c27-b180-26c52e45336d",
   "metadata": {},
   "outputs": [
    {
     "data": {
      "text/plain": [
       "[1, 22, 3, 44, 55, 6, 11, 1200, 88]"
      ]
     },
     "execution_count": 5,
     "metadata": {},
     "output_type": "execute_result"
    }
   ],
   "source": [
    "#3. Append the number `88` to the end of the list `l`.  \n",
    "\n",
    "l=[1,22,3,44,55,6,11,1200]\n",
    "l.append(88)\n",
    "l\n"
   ]
  },
  {
   "cell_type": "code",
   "execution_count": 6,
   "id": "32eb706e-d738-4b43-8f81-28c816d2fd20",
   "metadata": {},
   "outputs": [
    {
     "data": {
      "text/plain": [
       "[1, 3, 44, 55, 6, 11, 1200]"
      ]
     },
     "execution_count": 6,
     "metadata": {},
     "output_type": "execute_result"
    }
   ],
   "source": [
    "#4. Remove the value at the 2nd index of the list `l`.  \n",
    "\n",
    "\n",
    "l=[1,22,3,44,55,6,11,1200]\n",
    "l.pop(1)\n",
    "l\n",
    "\n",
    "\n"
   ]
  },
  {
   "cell_type": "code",
   "execution_count": 8,
   "id": "2b9d5a6a-f48f-415d-b901-6f6b3b0bd1fd",
   "metadata": {},
   "outputs": [
    {
     "data": {
      "text/plain": [
       "[1, 22, 3, 44, 55, 6, 11, 1200, 1, 2, 3, 546]"
      ]
     },
     "execution_count": 8,
     "metadata": {},
     "output_type": "execute_result"
    }
   ],
   "source": [
    "#5. Merge the list `m = [1, 2, 3, 546]` into the list `l`.\n",
    "\n",
    "l=[1,22,3,44,55,6,11,1200]\n",
    "\n",
    "m = [1,2,3,546]\n",
    "l.extend(m)\n",
    "l"
   ]
  },
  {
   "cell_type": "code",
   "execution_count": null,
   "id": "fc238c01-d35d-43b1-a1ef-3a02a5e9dfe1",
   "metadata": {},
   "outputs": [],
   "source": []
  },
  {
   "cell_type": "markdown",
   "id": "ed739d13-af4a-4762-938d-f9b2df3770b1",
   "metadata": {},
   "source": [
    "STRING"
   ]
  },
  {
   "cell_type": "code",
   "execution_count": 13,
   "id": "f13c59a9-ac5e-4030-8699-def343a34d7e",
   "metadata": {},
   "outputs": [
    {
     "data": {
      "text/plain": [
       "'HelloWpythonorld'"
      ]
     },
     "execution_count": 13,
     "metadata": {},
     "output_type": "execute_result"
    }
   ],
   "source": [
    "#1. Insert the substring `\"Python\"` at the 6th index of the string . \n",
    "\n",
    "s = 'HelloWorld'\n",
    "s1 = s[:6]+'python'+s[6:]\n",
    "s1\n"
   ]
  },
  {
   "cell_type": "code",
   "execution_count": 23,
   "id": "e9d20d5d-1258-40c5-98d9-3c643255aefb",
   "metadata": {},
   "outputs": [
    {
     "data": {
      "text/plain": [
       "'HelloWorld'"
      ]
     },
     "execution_count": 23,
     "metadata": {},
     "output_type": "execute_result"
    }
   ],
   "source": [
    "#2. Remove the substring `\"World\"` from the string `s`.  \n",
    "\n",
    "s = 'HelloWorld'\n",
    "s.replace('world','')\n",
    "s\n"
   ]
  },
  {
   "cell_type": "code",
   "execution_count": 26,
   "id": "1ba31783-95a4-4190-bd99-3c950500b3b1",
   "metadata": {},
   "outputs": [
    {
     "name": "stdout",
     "output_type": "stream",
     "text": [
      "HelloWorld2024\n"
     ]
    }
   ],
   "source": [
    "#3. Append the substring `\"2024\"` to the end of the string `s`.  \n",
    "\n",
    "s = 'HelloWorld'\n",
    "s = s + '2024'\n",
    "print(s)\n"
   ]
  },
  {
   "cell_type": "code",
   "execution_count": 28,
   "id": "e83c340f-f702-4aa4-9d9e-fa232c7a696a",
   "metadata": {},
   "outputs": [
    {
     "name": "stdout",
     "output_type": "stream",
     "text": [
      "HeloWorld\n"
     ]
    }
   ],
   "source": [
    "#4. Remove the character at the 2nd index of the string `s`.  \n",
    "\n",
    "s = 'HelloWorld'\n",
    "s = s[:2] + s[3:]\n",
    "print(s)\n"
   ]
  },
  {
   "cell_type": "code",
   "execution_count": 30,
   "id": "748fded4-082b-4590-98da-5a35894cae9a",
   "metadata": {},
   "outputs": [
    {
     "data": {
      "text/plain": [
       "'HelloWorldProgramming'"
      ]
     },
     "execution_count": 30,
     "metadata": {},
     "output_type": "execute_result"
    }
   ],
   "source": [
    "#5. Concatenate the string `t = \"Programming\"` to the string `s`.\n",
    "\n",
    "s = 'HelloWorld'\n",
    "t = 'Programming'\n",
    "sum = s+t\n",
    "sum"
   ]
  },
  {
   "cell_type": "code",
   "execution_count": null,
   "id": "6f875183-947b-44f4-9d9c-0bf38a29d000",
   "metadata": {},
   "outputs": [],
   "source": []
  },
  {
   "cell_type": "markdown",
   "id": "5fbe8b42-4d23-44f8-af5f-b308e75eaf6d",
   "metadata": {},
   "source": [
    "Write a function to check if a given string is a palindrome (reads the same forwards and backwards).\n",
    "Example:\n",
    "Input: \"madam\"\n",
    "Output: True\n",
    "\n"
   ]
  },
  {
   "cell_type": "code",
   "execution_count": 33,
   "id": "420a0ff3-2bfe-4d0a-9c78-0b6e64f4e23a",
   "metadata": {},
   "outputs": [
    {
     "name": "stdin",
     "output_type": "stream",
     "text": [
      "enter malayalam\n"
     ]
    },
    {
     "name": "stdout",
     "output_type": "stream",
     "text": [
      "palindrome\n"
     ]
    }
   ],
   "source": [
    "s = input('enter')\n",
    "rev = s[::-1]\n",
    "if s == rev:\n",
    "    print('palindrome')\n",
    "else:\n",
    "    print('not palindrome')\n"
   ]
  },
  {
   "cell_type": "code",
   "execution_count": null,
   "id": "8720302e-fa8e-47cf-807c-93bc71a4caae",
   "metadata": {},
   "outputs": [],
   "source": []
  },
  {
   "cell_type": "code",
   "execution_count": 37,
   "id": "1d820630-7c3f-47a6-b694-fc5e6cd764e6",
   "metadata": {
    "scrolled": true
   },
   "outputs": [
    {
     "name": "stdin",
     "output_type": "stream",
     "text": [
      "enter listen\n",
      "enter silent\n"
     ]
    },
    {
     "name": "stdout",
     "output_type": "stream",
     "text": [
      "True\n"
     ]
    }
   ],
   "source": [
    "'''Check if String is Anagram\n",
    "Write a function to check if two strings are anagrams of each other (contain the same characters in any order).\n",
    "Example:\n",
    "Input: \"listen\" and \"silent\"\n",
    "Output: True '''\n",
    "\n",
    "x = input('enter')\n",
    "y = input('enter')\n",
    "def anagram(s1, s2):\n",
    "    return sorted(s1) == sorted(s2)\n",
    "\n",
    "print(anagram(x,y))  \n",
    "\n"
   ]
  },
  {
   "cell_type": "code",
   "execution_count": null,
   "id": "48267ec0-629d-4a3e-99da-20bb1c334e8d",
   "metadata": {},
   "outputs": [],
   "source": []
  },
  {
   "cell_type": "code",
   "execution_count": 39,
   "id": "18f85f99-42e4-435f-833a-2bba254eb22d",
   "metadata": {},
   "outputs": [
    {
     "data": {
      "text/plain": [
       "'Hello World'"
      ]
     },
     "execution_count": 39,
     "metadata": {},
     "output_type": "execute_result"
    }
   ],
   "source": [
    "'''input: \"hello world\"\n",
    "Output: \"Hello World\" '''\n",
    "\n",
    "s = \"hello world\"\n",
    "s = s.title()\n",
    "s\n"
   ]
  },
  {
   "cell_type": "code",
   "execution_count": null,
   "id": "e6ae4f59-978d-45c6-ab9c-4e3c12c70955",
   "metadata": {},
   "outputs": [],
   "source": []
  },
  {
   "cell_type": "code",
   "execution_count": 41,
   "id": "2a778521-b4c7-4266-b1da-ad99fd38b410",
   "metadata": {},
   "outputs": [
    {
     "name": "stdout",
     "output_type": "stream",
     "text": [
      "hELLO wORLD\n"
     ]
    }
   ],
   "source": [
    "'''\n",
    "Input: \"Hello World\"\n",
    "Output: \"hELLO wORLD\"\n",
    "\n",
    "'''\n",
    "x = \"Hello World\"\n",
    "print(x.swapcase())\n"
   ]
  },
  {
   "cell_type": "code",
   "execution_count": null,
   "id": "a48b7d94-80a0-4c77-b82b-2369a2f21f76",
   "metadata": {},
   "outputs": [],
   "source": []
  },
  {
   "cell_type": "code",
   "execution_count": null,
   "id": "7a5f310d-25b7-4453-a319-8e9a59d1a6fc",
   "metadata": {},
   "outputs": [],
   "source": []
  },
  {
   "cell_type": "code",
   "execution_count": null,
   "id": "7028d594-c719-4e1f-8a46-0c320d1f03a8",
   "metadata": {},
   "outputs": [],
   "source": []
  }
 ],
 "metadata": {
  "kernelspec": {
   "display_name": "Python [conda env:base] *",
   "language": "python",
   "name": "conda-base-py"
  },
  "language_info": {
   "codemirror_mode": {
    "name": "ipython",
    "version": 3
   },
   "file_extension": ".py",
   "mimetype": "text/x-python",
   "name": "python",
   "nbconvert_exporter": "python",
   "pygments_lexer": "ipython3",
   "version": "3.12.7"
  }
 },
 "nbformat": 4,
 "nbformat_minor": 5
}
